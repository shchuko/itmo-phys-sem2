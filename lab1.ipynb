{
 "cells": [
  {
   "cell_type": "markdown",
   "metadata": {},
   "source": [
    "# Лабораторная работа 3.01\n",
    "## Отчет подготовил: Ярощук Владислав Викторович, M3208"
   ]
  },
  {
   "cell_type": "code",
   "execution_count": 1,
   "metadata": {},
   "outputs": [],
   "source": [
    "import pandas as pd\n",
    "import numpy as np\n",
    "import matplotlib.pyplot as plt\n",
    "from numpy import polyfit, polyval\n",
    "import sympy"
   ]
  },
  {
   "cell_type": "code",
   "execution_count": 2,
   "metadata": {},
   "outputs": [],
   "source": [
    "# Константы\n",
    "const_d_X = 1e-3\n",
    "const_d_Y = 0.5e-3\n",
    "const_d_Fi = 0.1"
   ]
  },
  {
   "cell_type": "code",
   "execution_count": 3,
   "metadata": {},
   "outputs": [],
   "source": [
    "# Функция вычисления среднего значения напряженности между эквипотенциальными поверхностями\n",
    "def getMeanE(fi1, fi2, distance):\n",
    "    return (fi1 - fi2) / distance;"
   ]
  },
  {
   "cell_type": "code",
   "execution_count": 4,
   "metadata": {},
   "outputs": [],
   "source": [
    "# Функция вычисления поверхностной плотности зарядов:\n",
    "def getSigma(dFi, dL):\n",
    "    e0 = 8.85e-12 # электрическая постоянная, Ф/м\n",
    "    return -e0 * dFi / dL"
   ]
  },
  {
   "cell_type": "code",
   "execution_count": 5,
   "metadata": {},
   "outputs": [
    {
     "data": {
      "text/latex": [
       "$\\displaystyle \\sqrt{\\frac{dFi_{1}^{2}}{L^{2}} + \\frac{dFi_{2}^{2}}{L^{2}} + \\frac{dL^{2} \\left(Fi_{1} - Fi_{2}\\right)^{2}}{L^{4}}}$"
      ],
      "text/plain": [
       "sqrt(dFi1**2/L**2 + dFi2**2/L**2 + dL**2*(Fi1 - Fi2)**2/L**4)"
      ]
     },
     "execution_count": 5,
     "metadata": {},
     "output_type": "execute_result"
    }
   ],
   "source": [
    "# Расчет погрешностей:\n",
    "# Формула вычисления абсолютной погрешности:\n",
    "Fi1, Fi2, L, d_Fi1, d_Fi2, d_L = sympy.symbols('Fi1 Fi2 L dFi1 dFi2 dL')\n",
    "E = (Fi1 - Fi2) / L\n",
    "\n",
    "E_d_Fi1 = sympy.diff(E, Fi1)\n",
    "E_d_Fi2 = sympy.diff(E, Fi2)\n",
    "E_d_L = sympy.diff(E, L)\n",
    "\n",
    "d_E_calc = sympy.sqrt((d_Fi1*E_d_Fi1)**2 + (d_Fi2*E_d_Fi2)**2 + (d_L*E_d_L)**2)\n",
    "d_E_calc"
   ]
  },
  {
   "cell_type": "code",
   "execution_count": 6,
   "metadata": {},
   "outputs": [
    {
     "data": {
      "text/latex": [
       "$\\displaystyle \\frac{100 L \\sqrt{\\frac{dFi_{1}^{2}}{L^{2}} + \\frac{dFi_{2}^{2}}{L^{2}} + \\frac{dL^{2} \\left(Fi_{1} - Fi_{2}\\right)^{2}}{L^{4}}}}{Fi_{1} - Fi_{2}}$"
      ],
      "text/plain": [
       "100*L*sqrt(dFi1**2/L**2 + dFi2**2/L**2 + dL**2*(Fi1 - Fi2)**2/L**4)/(Fi1 - Fi2)"
      ]
     },
     "execution_count": 6,
     "metadata": {},
     "output_type": "execute_result"
    }
   ],
   "source": [
    "# Формула вычисления относительной погрешности:\n",
    "eps_E_calc = d_E_calc / E * 100\n",
    "eps_E_calc"
   ]
  },
  {
   "cell_type": "code",
   "execution_count": 7,
   "metadata": {},
   "outputs": [
    {
     "name": "stdout",
     "output_type": "stream",
     "text": [
      "Среднее расстояние, м:  0.036\n",
      "Среднее значение напряженности в центре ванны, В/м:  55.55555555555556\n",
      "Абсолютная погрешность, В/м:  4.22061553431400\n",
      "Относительная погрешность, %:  7.59710796176519\n"
     ]
    }
   ],
   "source": [
    "\n",
    "# Часть 1.1: плоский конденсатор - расчет значения напряженности в центре ванны\n",
    "# Используем значение между эквипотенциальными поверхностями 6В и 8В\n",
    "# Расстояния между парами точек поверхностей:\n",
    "dists = pd.array([4.1, 3.9, 3.7, 3.9, 4,2])\n",
    "dists *= 1e-2\n",
    "\n",
    "# Значение потенциалов, В\n",
    "fi_first = 8;\n",
    "fi_second = 6;\n",
    "\n",
    "mean_dist = dists.mean()\n",
    "mean_e = getMeanE(fi_first, fi_second, mean_dist)\n",
    "\n",
    "formulas_args = [\n",
    "    (Fi1, fi_first), \n",
    "    (Fi2, fi_second), \n",
    "    (L, mean_dist), \n",
    "    (d_Fi1, const_d_Fi), \n",
    "    (d_Fi2, const_d_Fi), \n",
    "    (d_L, const_d_X)\n",
    "]\n",
    "dE = d_E_calc.subs(formulas_args)\n",
    "epsE = eps_E_calc.subs(formulas_args)\n",
    "\n",
    "print(\"Среднее расстояние, м: \", mean_dist)\n",
    "print(\"Среднее значение напряженности в центре ванны, В/м: \", mean_e)\n",
    "print(\"Абсолютная погрешность, В/м: \", dE)\n",
    "print(\"Относительная погрешность, %: \", epsE)"
   ]
  },
  {
   "cell_type": "code",
   "execution_count": 8,
   "metadata": {},
   "outputs": [
    {
     "name": "stdout",
     "output_type": "stream",
     "text": [
      "Среднее расстояние, м:  0.0048000000000000004\n",
      "Среднее значение напряженности в окрестности электрода, В/м:  104.16666666666666\n",
      "Абсолютная погрешность, В/м:  36.5924286603437\n",
      "Относительная погрешность, %:  35.1287315139300\n"
     ]
    }
   ],
   "source": [
    "# Часть 1.2: плоский конденсатор - расчет значения напряженности в окрестности одного из электродов\n",
    "# Используем значение между эквипотенциальными поверхностями 0В и 0,5В\n",
    "# Расстояния между парами точек поверхностей:\n",
    "dists = pd.array([0.35, 0.6, 0.65, 0.6, 0.2])\n",
    "dists *= 1e-2\n",
    "\n",
    "# Значение потенциалов, В\n",
    "fi_first = 0.5;\n",
    "fi_second = 0;\n",
    "\n",
    "mean_dist = dists.mean()\n",
    "mean_e = getMeanE(fi_first, fi_second, mean_dist)\n",
    "\n",
    "formulas_args = [\n",
    "    (Fi1, fi_first), \n",
    "    (Fi2, fi_second), \n",
    "    (L, mean_dist), \n",
    "    (d_Fi1, const_d_Fi), \n",
    "    (d_Fi2, const_d_Fi), \n",
    "    (d_L, const_d_X)\n",
    "]\n",
    "dE = d_E_calc.subs(formulas_args)\n",
    "epsE = eps_E_calc.subs(formulas_args)\n",
    "\n",
    "print(\"Среднее расстояние, м: \", mean_dist)\n",
    "print(\"Среднее значение напряженности в окрестности электрода, В/м: \", mean_e)\n",
    "print(\"Абсолютная погрешность, В/м: \", dE)\n",
    "print(\"Относительная погрешность, %: \", epsE)"
   ]
  },
  {
   "cell_type": "code",
   "execution_count": 9,
   "metadata": {},
   "outputs": [
    {
     "name": "stdout",
     "output_type": "stream",
     "text": [
      "Поверхностная плотность заряда для левого электрода, Кл/м^2:  9.218749999999999e-12\n",
      "Поверхностная плотность заряда для правого электрода, Кл/м^2:  -9.414893617021277e-12\n"
     ]
    }
   ],
   "source": [
    "# Часть 1.2: плоский конденсатор - оценка поверхностной плотности зарядов на электродах\n",
    "# Для левого электрода\n",
    "dists = pd.array([0.35, 0.6, 0.65, 0.6, 0.2])\n",
    "dFi = 0.5\n",
    "print(\"Поверхностная плотность заряда для левого электрода, Кл/м^2: \", getSigma(-dFi, dists.mean()))\n",
    "\n",
    "# Для правого элекитрода\n",
    "dists = pd.array([0.2, 0.6, 0.7, 0.65, 0.2])\n",
    "dFi = 0.5\n",
    "print(\"Поверхностная плотность заряда для правого электрода, Кл/м^2: \", getSigma(dFi, dists.mean()))"
   ]
  },
  {
   "cell_type": "code",
   "execution_count": 10,
   "metadata": {},
   "outputs": [
    {
     "name": "stdout",
     "output_type": "stream",
     "text": [
      "Emin, В/м:  25.0\n",
      "Emax, В/м:  200.0\n"
     ]
    }
   ],
   "source": [
    "# Часть 2.1: металлическое кольцо в электрическом поле - области с минимальной и максимальной напряженностью\n",
    "\n",
    "# Области минимальной напряженности соответвует самая протяженная, максимальной - самая короткая\n",
    "# линия напряженности при измерении между эквипотенциальными поверхностями\n",
    "distanceEMin = 4e-2 # Расстояние для Emin\n",
    "distanceEMax = 5e-3 # Расстояние для Emax\n",
    "fi_first = 7\n",
    "fi_second = 6\n",
    "print(\"Emin, В/м: \", getMeanE(fi_first, fi_second, distanceEMin))\n",
    "print(\"Emax, В/м: \", getMeanE(fi_first, fi_second, distanceEMax))"
   ]
  },
  {
   "cell_type": "code",
   "execution_count": 11,
   "metadata": {},
   "outputs": [
    {
     "data": {
      "text/html": [
       "<div>\n",
       "<style scoped>\n",
       "    .dataframe tbody tr th:only-of-type {\n",
       "        vertical-align: middle;\n",
       "    }\n",
       "\n",
       "    .dataframe tbody tr th {\n",
       "        vertical-align: top;\n",
       "    }\n",
       "\n",
       "    .dataframe thead th {\n",
       "        text-align: right;\n",
       "    }\n",
       "</style>\n",
       "<table border=\"1\" class=\"dataframe\">\n",
       "  <thead>\n",
       "    <tr style=\"text-align: right;\">\n",
       "      <th></th>\n",
       "      <th>fi</th>\n",
       "      <th>xPlane</th>\n",
       "      <th>xRing</th>\n",
       "    </tr>\n",
       "  </thead>\n",
       "  <tbody>\n",
       "    <tr>\n",
       "      <td>0</td>\n",
       "      <td>2</td>\n",
       "      <td>0.042</td>\n",
       "      <td>0.027</td>\n",
       "    </tr>\n",
       "    <tr>\n",
       "      <td>1</td>\n",
       "      <td>4</td>\n",
       "      <td>0.070</td>\n",
       "      <td>0.058</td>\n",
       "    </tr>\n",
       "    <tr>\n",
       "      <td>2</td>\n",
       "      <td>6</td>\n",
       "      <td>0.132</td>\n",
       "      <td>0.082</td>\n",
       "    </tr>\n",
       "    <tr>\n",
       "      <td>3</td>\n",
       "      <td>7</td>\n",
       "      <td>0.150</td>\n",
       "      <td>0.150</td>\n",
       "    </tr>\n",
       "    <tr>\n",
       "      <td>4</td>\n",
       "      <td>8</td>\n",
       "      <td>0.170</td>\n",
       "      <td>0.218</td>\n",
       "    </tr>\n",
       "    <tr>\n",
       "      <td>5</td>\n",
       "      <td>10</td>\n",
       "      <td>0.210</td>\n",
       "      <td>0.242</td>\n",
       "    </tr>\n",
       "    <tr>\n",
       "      <td>6</td>\n",
       "      <td>12</td>\n",
       "      <td>0.252</td>\n",
       "      <td>0.276</td>\n",
       "    </tr>\n",
       "  </tbody>\n",
       "</table>\n",
       "</div>"
      ],
      "text/plain": [
       "   fi  xPlane  xRing\n",
       "0   2   0.042  0.027\n",
       "1   4   0.070  0.058\n",
       "2   6   0.132  0.082\n",
       "3   7   0.150  0.150\n",
       "4   8   0.170  0.218\n",
       "5  10   0.210  0.242\n",
       "6  12   0.252  0.276"
      ]
     },
     "execution_count": 11,
     "metadata": {},
     "output_type": "execute_result"
    }
   ],
   "source": [
    "# Часть 3: графики зависимости потенциала от координаты для горизонтали Y=10\n",
    "# Исходные данные\n",
    "fiX_df = pd.DataFrame({'fi': [2, 4, 6, 7, 8, 10, 12],\n",
    "                       'xPlane' : [4.2, 7, 13.2, 15, 17, 21, 25.2],\n",
    "                       'xRing' : [2.7, 5.8, 8.2, 15, 21.8, 24.2, 27.6]})\n",
    "fiX_df['xPlane'] *= 1e-2\n",
    "fiX_df['xRing'] *= 1e-2\n",
    "fiX_df"
   ]
  },
  {
   "cell_type": "code",
   "execution_count": 12,
   "metadata": {},
   "outputs": [
    {
     "data": {
      "text/plain": [
       "<matplotlib.legend.Legend at 0x7f833bd35190>"
      ]
     },
     "execution_count": 12,
     "metadata": {},
     "output_type": "execute_result"
    },
    {
     "data": {
      "image/png": "[encoded data removed]",
      "text/plain": [
       "<Figure size 720x360 with 1 Axes>"
      ]
     },
     "metadata": {
      "needs_background": "light"
     },
     "output_type": "display_data"
    }
   ],
   "source": [
    "# Строим графики\n",
    "fig, ax = plt.subplots(figsize=(10, 5))\n",
    "\n",
    "ax.set_xlabel(\"Координата X\")\n",
    "ax.set_ylabel(\"Потенциал, В\")\n",
    "\n",
    "x = np.arange(0.02, 0.29, 0.02)\n",
    "\n",
    "ax.grid(True)\n",
    "ax.scatter(fiX_df['xPlane'], fiX_df['fi'])\n",
    "k1, k = polyfit(fiX_df['xPlane'], fiX_df['fi'], 1)\n",
    "ax.plot(x, polyval([k1, k], x), label='Полый плоский конденсатор')\n",
    "\n",
    "ax.scatter(fiX_df['xRing'], fiX_df['fi'])\n",
    "def FiRing(x):\n",
    "    if (x < 0.09):\n",
    "        k1, k = polyfit(fiX_df['xRing'][:3], fiX_df['fi'][:3], 1)\n",
    "        return polyval([k1, k], x)\n",
    "    elif (x > 0.21):\n",
    "        k1, k = polyfit(fiX_df['xRing'][4:], fiX_df['fi'][4:], 1)\n",
    "        return polyval([k1, k], x)\n",
    "    else:\n",
    "        return 7\n",
    "    \n",
    "ax.plot(x, np.vectorize(FiRing)(x), label='Плоский конденсатор с кольцом')\n",
    "ax.legend()"
   ]
  },
  {
   "cell_type": "markdown",
   "metadata": {},
   "source": [
    "### Вывод\n",
    "Мы провели построение сечений эквипотенциальных поверхностей и силовых линий электростатического поля на основе экспериментального моделирования распределения потенциала в слабопроводящей среде. Провели расчет значений напряженности в различных точках плоскости. Для модели с кольцом внутри плоского конденсатора установили местоположение областей максимальной и минимальной напряженности, расчитали значения напряженности для данных областей. Расчитали значение плотности заряда для электрода. Также, мы установили функциональную зависимость потенциала от горизонтальной координаты при перемещеннии между электродами, для модели с кольцом убедились в прерывистом поведении функции: потенциал на конце и внутри одинаков, так как оно обладает высокой электропроводностью."
   ]
  },
  {
   "cell_type": "code",
   "execution_count": null,
   "metadata": {},
   "outputs": [],
   "source": []
  }
 ],
 "metadata": {
  "kernelspec": {
   "display_name": "Python 3",
   "language": "python",
   "name": "python3"
  },
  "language_info": {
   "codemirror_mode": {
    "name": "ipython",
    "version": 3
   },
   "file_extension": ".py",
   "mimetype": "text/x-python",
   "name": "python",
   "nbconvert_exporter": "python",
   "pygments_lexer": "ipython3",
   "version": "3.7.4"
  }
 },
 "nbformat": 4,
 "nbformat_minor": 2
}

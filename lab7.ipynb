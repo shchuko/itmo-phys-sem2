{
 "cells": [
  {
   "cell_type": "markdown",
   "metadata": {},
   "source": [
    "# Лабораторная работа 3.07\n",
    "### Изучение свойств ферромагнетика\n",
    "#### Отчет подготовил: Ярощук Владислав Викторович, M3208"
   ]
  },
  {
   "cell_type": "code",
   "execution_count": 2,
   "metadata": {},
   "outputs": [],
   "source": [
    "import pandas as pd\n",
    "import numpy as np\n",
    "from math import sqrt\n",
    "from math import pi\n",
    "import matplotlib.pyplot as plt\n",
    "from numpy import polyfit, polyval"
   ]
  },
  {
   "cell_type": "code",
   "execution_count": 3,
   "metadata": {},
   "outputs": [],
   "source": [
    "# Constants\n",
    "N1 = 1665\n",
    "N2 = 970\n",
    "L = 78 * 20**-2 # м\n",
    "R1 = 68 # Ом\n",
    "R2 = 470 * 10**3 # Ом\n",
    "C1 = 0.47 * 10**-6 # Ф\n",
    "S = 0.64 * (10**-2)**2 # м^2\n",
    "u0 = 4*pi*10**-7 # Гн/м\n",
    "Spg = 7.8 # единиц площади\n",
    "\n",
    "freq = 30 # Гц\n",
    "Vpp0 = 20 # В\n",
    "\n",
    "alpha = N1 / (L * R1)\n",
    "betta = R2 * C1 / (N2 * S)"
   ]
  },
  {
   "cell_type": "code",
   "execution_count": 4,
   "metadata": {},
   "outputs": [],
   "source": [
    "def xi(Kx, Ky):\n",
    "    return Kx*Ky*N1*R2*C1*freq/(N2*R1)"
   ]
  },
  {
   "cell_type": "code",
   "execution_count": 5,
   "metadata": {},
   "outputs": [
    {
     "data": {
      "text/html": [
       "<div>\n",
       "<style scoped>\n",
       "    .dataframe tbody tr th:only-of-type {\n",
       "        vertical-align: middle;\n",
       "    }\n",
       "\n",
       "    .dataframe tbody tr th {\n",
       "        vertical-align: top;\n",
       "    }\n",
       "\n",
       "    .dataframe thead th {\n",
       "        text-align: right;\n",
       "    }\n",
       "</style>\n",
       "<table border=\"1\" class=\"dataframe\">\n",
       "  <thead>\n",
       "    <tr style=\"text-align: right;\">\n",
       "      <th></th>\n",
       "      <th>Kx</th>\n",
       "      <th>Ky</th>\n",
       "      <th>Xc</th>\n",
       "      <th>Yr</th>\n",
       "      <th>Hc</th>\n",
       "      <th>Br</th>\n",
       "    </tr>\n",
       "  </thead>\n",
       "  <tbody>\n",
       "    <tr>\n",
       "      <td>0</td>\n",
       "      <td>0.1</td>\n",
       "      <td>0.05</td>\n",
       "      <td>1.1</td>\n",
       "      <td>1.5</td>\n",
       "      <td>13.812217</td>\n",
       "      <td>0.266873</td>\n",
       "    </tr>\n",
       "  </tbody>\n",
       "</table>\n",
       "</div>"
      ],
      "text/plain": [
       "    Kx    Ky   Xc   Yr         Hc        Br\n",
       "0  0.1  0.05  1.1  1.5  13.812217  0.266873"
      ]
     },
     "execution_count": 5,
     "metadata": {},
     "output_type": "execute_result"
    }
   ],
   "source": [
    "# Таблица 1, пересечение с осями координат\n",
    "df1 = pd.DataFrame({'Kx':[100 * 10**-3],\n",
    "                    'Ky':[50 * 10**-3],\n",
    "                    'Xc':[1.1], \n",
    "                    'Yr':[1.5]})\n",
    "\n",
    "# Вычисление коэрцитивной силы (А/м) и остаточной индукции (Тл)\n",
    "df1['Hc'] = df1['Kx'] * df1['Xc'] * alpha\n",
    "df1['Br'] = df1['Ky'] * df1['Yr'] * betta\n",
    "\n",
    "# Таблица 1\n",
    "df1"
   ]
  },
  {
   "cell_type": "code",
   "execution_count": 6,
   "metadata": {},
   "outputs": [
    {
     "data": {
      "text/html": [
       "<div>\n",
       "<style scoped>\n",
       "    .dataframe tbody tr th:only-of-type {\n",
       "        vertical-align: middle;\n",
       "    }\n",
       "\n",
       "    .dataframe tbody tr th {\n",
       "        vertical-align: top;\n",
       "    }\n",
       "\n",
       "    .dataframe thead th {\n",
       "        text-align: right;\n",
       "    }\n",
       "</style>\n",
       "<table border=\"1\" class=\"dataframe\">\n",
       "  <thead>\n",
       "    <tr style=\"text-align: right;\">\n",
       "      <th></th>\n",
       "      <th>Kx</th>\n",
       "      <th>Ky</th>\n",
       "      <th>Xm</th>\n",
       "      <th>Ym</th>\n",
       "      <th>Hm</th>\n",
       "      <th>Bm</th>\n",
       "      <th>um</th>\n",
       "      <th>um/u0</th>\n",
       "    </tr>\n",
       "  </thead>\n",
       "  <tbody>\n",
       "    <tr>\n",
       "      <td>0</td>\n",
       "      <td>0.1</td>\n",
       "      <td>0.05</td>\n",
       "      <td>3.4</td>\n",
       "      <td>2.6</td>\n",
       "      <td>42.692308</td>\n",
       "      <td>0.462581</td>\n",
       "      <td>0.010835</td>\n",
       "      <td>8622.394021</td>\n",
       "    </tr>\n",
       "  </tbody>\n",
       "</table>\n",
       "</div>"
      ],
      "text/plain": [
       "    Kx    Ky   Xm   Ym         Hm        Bm        um        um/u0\n",
       "0  0.1  0.05  3.4  2.6  42.692308  0.462581  0.010835  8622.394021"
      ]
     },
     "execution_count": 6,
     "metadata": {},
     "output_type": "execute_result"
    }
   ],
   "source": [
    "# Таблица 2, вершина петли гистерезиса, состояние насыщения\n",
    "df2 = pd.DataFrame({'Kx':[100 * 10**-3],\n",
    "                    'Ky':[50 * 10**-3],\n",
    "                    'Xm':[3.4],\n",
    "                    'Ym':[2.6]})\n",
    "\n",
    "df2['Hm'] = df2['Kx'] * df2['Xm'] * alpha\n",
    "df2['Bm'] = df2['Ky'] * df2['Ym'] * betta\n",
    "\n",
    "# Вычисление значения магнитной проницаемости, соответствующее состоянию насыщения  Гн/м\n",
    "df2['um'] = df2['Bm'] / df2['Hm']\n",
    "# Вычисление значения относительной магнитной проницаемости, соответствующее состоянию насыщения\n",
    "df2['um/u0'] = df2['Bm'] / (df2['Hm'] * u0)\n",
    "\n",
    "df2"
   ]
  },
  {
   "cell_type": "code",
   "execution_count": 7,
   "metadata": {},
   "outputs": [
    {
     "name": "stdout",
     "output_type": "stream",
     "text": [
      "P : 0.006524018268647665\n"
     ]
    }
   ],
   "source": [
    "# Расчет средней мощности, расходуемой на перемагничивание образца\n",
    "print('P :', xi(100 * 10**-3, 50 * 10**-3) * Spg)"
   ]
  },
  {
   "cell_type": "code",
   "execution_count": 8,
   "metadata": {},
   "outputs": [
    {
     "data": {
      "text/html": [
       "<div>\n",
       "<style scoped>\n",
       "    .dataframe tbody tr th:only-of-type {\n",
       "        vertical-align: middle;\n",
       "    }\n",
       "\n",
       "    .dataframe tbody tr th {\n",
       "        vertical-align: top;\n",
       "    }\n",
       "\n",
       "    .dataframe thead th {\n",
       "        text-align: right;\n",
       "    }\n",
       "</style>\n",
       "<table border=\"1\" class=\"dataframe\">\n",
       "  <thead>\n",
       "    <tr style=\"text-align: right;\">\n",
       "      <th></th>\n",
       "      <th>U</th>\n",
       "      <th>X</th>\n",
       "      <th>Kx</th>\n",
       "      <th>Y</th>\n",
       "      <th>Ky</th>\n",
       "      <th>H</th>\n",
       "      <th>B</th>\n",
       "      <th>u</th>\n",
       "      <th>u/u0</th>\n",
       "    </tr>\n",
       "  </thead>\n",
       "  <tbody>\n",
       "    <tr>\n",
       "      <td>0</td>\n",
       "      <td>20</td>\n",
       "      <td>3.4</td>\n",
       "      <td>0.10</td>\n",
       "      <td>2.8</td>\n",
       "      <td>0.050</td>\n",
       "      <td>42.692308</td>\n",
       "      <td>0.498164</td>\n",
       "      <td>0.011669</td>\n",
       "      <td>9285.655099</td>\n",
       "    </tr>\n",
       "    <tr>\n",
       "      <td>1</td>\n",
       "      <td>19</td>\n",
       "      <td>3.2</td>\n",
       "      <td>0.10</td>\n",
       "      <td>2.7</td>\n",
       "      <td>0.050</td>\n",
       "      <td>40.180995</td>\n",
       "      <td>0.480372</td>\n",
       "      <td>0.011955</td>\n",
       "      <td>9513.651095</td>\n",
       "    </tr>\n",
       "    <tr>\n",
       "      <td>2</td>\n",
       "      <td>18</td>\n",
       "      <td>3.0</td>\n",
       "      <td>0.10</td>\n",
       "      <td>2.6</td>\n",
       "      <td>0.050</td>\n",
       "      <td>37.669683</td>\n",
       "      <td>0.462581</td>\n",
       "      <td>0.012280</td>\n",
       "      <td>9772.046557</td>\n",
       "    </tr>\n",
       "    <tr>\n",
       "      <td>3</td>\n",
       "      <td>17</td>\n",
       "      <td>2.8</td>\n",
       "      <td>0.10</td>\n",
       "      <td>2.5</td>\n",
       "      <td>0.050</td>\n",
       "      <td>35.158371</td>\n",
       "      <td>0.444789</td>\n",
       "      <td>0.012651</td>\n",
       "      <td>10067.355656</td>\n",
       "    </tr>\n",
       "    <tr>\n",
       "      <td>4</td>\n",
       "      <td>16</td>\n",
       "      <td>2.6</td>\n",
       "      <td>0.10</td>\n",
       "      <td>2.4</td>\n",
       "      <td>0.050</td>\n",
       "      <td>32.647059</td>\n",
       "      <td>0.426997</td>\n",
       "      <td>0.013079</td>\n",
       "      <td>10408.096925</td>\n",
       "    </tr>\n",
       "    <tr>\n",
       "      <td>5</td>\n",
       "      <td>15</td>\n",
       "      <td>2.4</td>\n",
       "      <td>0.10</td>\n",
       "      <td>2.2</td>\n",
       "      <td>0.050</td>\n",
       "      <td>30.135747</td>\n",
       "      <td>0.391414</td>\n",
       "      <td>0.012988</td>\n",
       "      <td>10335.818474</td>\n",
       "    </tr>\n",
       "    <tr>\n",
       "      <td>6</td>\n",
       "      <td>14</td>\n",
       "      <td>2.2</td>\n",
       "      <td>0.10</td>\n",
       "      <td>2.0</td>\n",
       "      <td>0.050</td>\n",
       "      <td>27.624434</td>\n",
       "      <td>0.355831</td>\n",
       "      <td>0.012881</td>\n",
       "      <td>10250.398486</td>\n",
       "    </tr>\n",
       "    <tr>\n",
       "      <td>7</td>\n",
       "      <td>13</td>\n",
       "      <td>2.0</td>\n",
       "      <td>0.10</td>\n",
       "      <td>1.9</td>\n",
       "      <td>0.050</td>\n",
       "      <td>25.113122</td>\n",
       "      <td>0.338040</td>\n",
       "      <td>0.013461</td>\n",
       "      <td>10711.666418</td>\n",
       "    </tr>\n",
       "    <tr>\n",
       "      <td>8</td>\n",
       "      <td>12</td>\n",
       "      <td>3.8</td>\n",
       "      <td>0.05</td>\n",
       "      <td>1.8</td>\n",
       "      <td>0.050</td>\n",
       "      <td>23.857466</td>\n",
       "      <td>0.320248</td>\n",
       "      <td>0.013423</td>\n",
       "      <td>10681.994212</td>\n",
       "    </tr>\n",
       "    <tr>\n",
       "      <td>9</td>\n",
       "      <td>11</td>\n",
       "      <td>3.5</td>\n",
       "      <td>0.05</td>\n",
       "      <td>4.0</td>\n",
       "      <td>0.020</td>\n",
       "      <td>21.973982</td>\n",
       "      <td>0.284665</td>\n",
       "      <td>0.012955</td>\n",
       "      <td>10308.972192</td>\n",
       "    </tr>\n",
       "    <tr>\n",
       "      <td>10</td>\n",
       "      <td>10</td>\n",
       "      <td>3.2</td>\n",
       "      <td>0.05</td>\n",
       "      <td>3.8</td>\n",
       "      <td>0.020</td>\n",
       "      <td>20.090498</td>\n",
       "      <td>0.270432</td>\n",
       "      <td>0.013461</td>\n",
       "      <td>10711.666418</td>\n",
       "    </tr>\n",
       "    <tr>\n",
       "      <td>11</td>\n",
       "      <td>9</td>\n",
       "      <td>3.0</td>\n",
       "      <td>0.05</td>\n",
       "      <td>3.6</td>\n",
       "      <td>0.020</td>\n",
       "      <td>18.834842</td>\n",
       "      <td>0.256198</td>\n",
       "      <td>0.013602</td>\n",
       "      <td>10824.420801</td>\n",
       "    </tr>\n",
       "    <tr>\n",
       "      <td>12</td>\n",
       "      <td>8</td>\n",
       "      <td>2.8</td>\n",
       "      <td>0.05</td>\n",
       "      <td>3.1</td>\n",
       "      <td>0.020</td>\n",
       "      <td>17.579186</td>\n",
       "      <td>0.220615</td>\n",
       "      <td>0.012550</td>\n",
       "      <td>9986.816811</td>\n",
       "    </tr>\n",
       "    <tr>\n",
       "      <td>13</td>\n",
       "      <td>7</td>\n",
       "      <td>2.6</td>\n",
       "      <td>0.05</td>\n",
       "      <td>2.8</td>\n",
       "      <td>0.020</td>\n",
       "      <td>16.323529</td>\n",
       "      <td>0.199265</td>\n",
       "      <td>0.012207</td>\n",
       "      <td>9714.223796</td>\n",
       "    </tr>\n",
       "    <tr>\n",
       "      <td>14</td>\n",
       "      <td>6</td>\n",
       "      <td>2.4</td>\n",
       "      <td>0.05</td>\n",
       "      <td>2.6</td>\n",
       "      <td>0.020</td>\n",
       "      <td>15.067873</td>\n",
       "      <td>0.185032</td>\n",
       "      <td>0.012280</td>\n",
       "      <td>9772.046557</td>\n",
       "    </tr>\n",
       "    <tr>\n",
       "      <td>15</td>\n",
       "      <td>5</td>\n",
       "      <td>2.2</td>\n",
       "      <td>0.05</td>\n",
       "      <td>2.2</td>\n",
       "      <td>0.020</td>\n",
       "      <td>13.812217</td>\n",
       "      <td>0.156566</td>\n",
       "      <td>0.011335</td>\n",
       "      <td>9020.350668</td>\n",
       "    </tr>\n",
       "    <tr>\n",
       "      <td>16</td>\n",
       "      <td>4</td>\n",
       "      <td>2.0</td>\n",
       "      <td>0.05</td>\n",
       "      <td>1.8</td>\n",
       "      <td>0.020</td>\n",
       "      <td>12.556561</td>\n",
       "      <td>0.128099</td>\n",
       "      <td>0.010202</td>\n",
       "      <td>8118.315601</td>\n",
       "    </tr>\n",
       "    <tr>\n",
       "      <td>17</td>\n",
       "      <td>3</td>\n",
       "      <td>1.8</td>\n",
       "      <td>0.05</td>\n",
       "      <td>3.0</td>\n",
       "      <td>0.010</td>\n",
       "      <td>11.300905</td>\n",
       "      <td>0.106749</td>\n",
       "      <td>0.009446</td>\n",
       "      <td>7516.958890</td>\n",
       "    </tr>\n",
       "    <tr>\n",
       "      <td>18</td>\n",
       "      <td>2</td>\n",
       "      <td>3.4</td>\n",
       "      <td>0.02</td>\n",
       "      <td>4.0</td>\n",
       "      <td>0.005</td>\n",
       "      <td>8.538462</td>\n",
       "      <td>0.071166</td>\n",
       "      <td>0.008335</td>\n",
       "      <td>6632.610785</td>\n",
       "    </tr>\n",
       "    <tr>\n",
       "      <td>19</td>\n",
       "      <td>1</td>\n",
       "      <td>2.4</td>\n",
       "      <td>0.02</td>\n",
       "      <td>3.0</td>\n",
       "      <td>0.005</td>\n",
       "      <td>6.027149</td>\n",
       "      <td>0.053375</td>\n",
       "      <td>0.008856</td>\n",
       "      <td>7047.148959</td>\n",
       "    </tr>\n",
       "  </tbody>\n",
       "</table>\n",
       "</div>"
      ],
      "text/plain": [
       "     U    X    Kx    Y     Ky          H         B         u          u/u0\n",
       "0   20  3.4  0.10  2.8  0.050  42.692308  0.498164  0.011669   9285.655099\n",
       "1   19  3.2  0.10  2.7  0.050  40.180995  0.480372  0.011955   9513.651095\n",
       "2   18  3.0  0.10  2.6  0.050  37.669683  0.462581  0.012280   9772.046557\n",
       "3   17  2.8  0.10  2.5  0.050  35.158371  0.444789  0.012651  10067.355656\n",
       "4   16  2.6  0.10  2.4  0.050  32.647059  0.426997  0.013079  10408.096925\n",
       "5   15  2.4  0.10  2.2  0.050  30.135747  0.391414  0.012988  10335.818474\n",
       "6   14  2.2  0.10  2.0  0.050  27.624434  0.355831  0.012881  10250.398486\n",
       "7   13  2.0  0.10  1.9  0.050  25.113122  0.338040  0.013461  10711.666418\n",
       "8   12  3.8  0.05  1.8  0.050  23.857466  0.320248  0.013423  10681.994212\n",
       "9   11  3.5  0.05  4.0  0.020  21.973982  0.284665  0.012955  10308.972192\n",
       "10  10  3.2  0.05  3.8  0.020  20.090498  0.270432  0.013461  10711.666418\n",
       "11   9  3.0  0.05  3.6  0.020  18.834842  0.256198  0.013602  10824.420801\n",
       "12   8  2.8  0.05  3.1  0.020  17.579186  0.220615  0.012550   9986.816811\n",
       "13   7  2.6  0.05  2.8  0.020  16.323529  0.199265  0.012207   9714.223796\n",
       "14   6  2.4  0.05  2.6  0.020  15.067873  0.185032  0.012280   9772.046557\n",
       "15   5  2.2  0.05  2.2  0.020  13.812217  0.156566  0.011335   9020.350668\n",
       "16   4  2.0  0.05  1.8  0.020  12.556561  0.128099  0.010202   8118.315601\n",
       "17   3  1.8  0.05  3.0  0.010  11.300905  0.106749  0.009446   7516.958890\n",
       "18   2  3.4  0.02  4.0  0.005   8.538462  0.071166  0.008335   6632.610785\n",
       "19   1  2.4  0.02  3.0  0.005   6.027149  0.053375  0.008856   7047.148959"
      ]
     },
     "execution_count": 8,
     "metadata": {},
     "output_type": "execute_result"
    }
   ],
   "source": [
    "# Изменяем амплитудное напряжение, записываем измерения\n",
    "df3 = pd.DataFrame({'U': list(range(20,0,-1)),\n",
    "                    'X':[3.4, 3.2, 3, 2.8, 2.6, 2.4, 2.2, 2, 3.8, \n",
    "                         3.5, 3.2, 3, 2.8, 2.6, 2.4, 2.2, 2, 1.8, \n",
    "                         3.4, 2.4],\n",
    "                    'Kx':[100 * 10**-3, 100 * 10**-3, 100 * 10**-3, \n",
    "                          100 * 10**-3, 100  * 10**-3, 100 * 10**-3, \n",
    "                          100 * 10**-3, 100 * 10**-3, 50 * 10**-3, \n",
    "                          50 * 10**-3, 50 * 10**-3, 50 * 10**-3, \n",
    "                          50 * 10**-3, 50 * 10**-3, 50 * 10**-3, \n",
    "                          50 * 10**-3, 50 * 10**-3, 50 * 10**-3, \n",
    "                          20 * 10**-3, 20 * 10**-3],\n",
    "                    'Y':[2.8, 2.7, 2.6, 2.5, 2.4, 2.2, 2, 1.9, 1.8,\n",
    "                         4, 3.8, 3.6, 3.1, 2.8, 2.6, 2.2, 1.8, 3,\n",
    "                         4, 3],\n",
    "                    'Ky':[50 * 10**-3, 50 * 10**-3, 50 * 10**-3, \n",
    "                          50 * 10**-3, 50 * 10**-3, 50 * 10**-3, \n",
    "                          50 * 10**-3, 50 * 10**-3, 50 * 10**-3,\n",
    "                          20 * 10**-3, 20 * 10**-3, 20 * 10**-3,\n",
    "                          20 * 10**-3, 20 * 10**-3, 20 * 10**-3,\n",
    "                          20 * 10**-3, 20 * 10**-3, 10 * 10**-3,\n",
    "                          5 * 10**-3, 5 * 10**-3]})\n",
    "# Вычисляем требуемые значения\n",
    "df3['H'] = df3['Kx'] * df3['X'] * alpha\n",
    "df3['B'] = df3['Ky'] * df3['Y'] * betta\n",
    "df3['u'] = df3['B'] / df3['H']\n",
    "df3['u/u0'] = df3['B'] / (df3['H'] * u0)\n",
    "\n",
    "df3\n"
   ]
  },
  {
   "cell_type": "code",
   "execution_count": 9,
   "metadata": {},
   "outputs": [
    {
     "data": {
      "text/plain": [
       "<matplotlib.legend.Legend at 0x7febf415e490>"
      ]
     },
     "execution_count": 9,
     "metadata": {},
     "output_type": "execute_result"
    },
    {
     "data": {
      "image/png": "[encoded data removed]",
      "text/plain": [
       "<Figure size 720x360 with 1 Axes>"
      ]
     },
     "metadata": {
      "needs_background": "light"
     },
     "output_type": "display_data"
    }
   ],
   "source": [
    "# Строим кривую начального намагничивания\n",
    "fig, ax = plt.subplots(figsize=(10, 5))\n",
    "\n",
    "x = np.linspace(0, max(df3['H']), 10000)\n",
    "\n",
    "bk3, bk2, bk1, bk = polyfit(np.array(df3['H']), np.array(df3['B']), 3)\n",
    "ax.scatter(df3['H'], df3['B'], label='B')\n",
    "ax.plot(x, polyval([bk3, bk2, bk1, bk], x))\n",
    "ax.set_xlabel('H')\n",
    "ax.set_ylabel('B')\n",
    "ax.legend()"
   ]
  },
  {
   "cell_type": "code",
   "execution_count": 10,
   "metadata": {
    "scrolled": true
   },
   "outputs": [
    {
     "data": {
      "text/plain": [
       "<matplotlib.legend.Legend at 0x7febef533050>"
      ]
     },
     "execution_count": 10,
     "metadata": {},
     "output_type": "execute_result"
    },
    {
     "data": {
      "image/png": "[encoded data removed]",
      "text/plain": [
       "<Figure size 720x360 with 1 Axes>"
      ]
     },
     "metadata": {
      "needs_background": "light"
     },
     "output_type": "display_data"
    }
   ],
   "source": [
    "# Строим график зависимости относительной магнитной проницаемости от напряженности магнитного поля\n",
    "fig, ax = plt.subplots(figsize=(10, 5))\n",
    "\n",
    "x = np.linspace(0, max(df3['H']), 10000)\n",
    "\n",
    "k3, k2, k1, k = polyfit(np.array(df3['H']), np.array(df3['u/u0']), 3)\n",
    "ax.scatter(df3['H'], df3['u/u0'], label='u/u0')\n",
    "ax.plot(x, polyval([k3, k2, k1, k], x))\n",
    "ax.set_xlabel('H')\n",
    "ax.set_ylabel('u/u0')\n",
    "ax.legend()\n"
   ]
  },
  {
   "cell_type": "code",
   "execution_count": 11,
   "metadata": {},
   "outputs": [
    {
     "name": "stdout",
     "output_type": "stream",
     "text": [
      "u/u0 max:  10545.869741931323\n",
      "u max:  0.013252330762786533\n",
      "B, if u=umax:  0.35369981134258915\n",
      "H, if u=umax:  26.68963050151169\n"
     ]
    }
   ],
   "source": [
    "# Из графика находим напряженность, при которой наблюдается максимум магнитной проницаемости\n",
    "maxUH = x[np.argmax(polyval([k3, k2, k1, k], x))]\n",
    "\n",
    "# Выводим соответствующие значения магнитной проницаемости (относительной и абсолютной)\n",
    "print(\"u/u0 max: \", polyval([bk3, bk2, bk1, bk], maxUH) / (u0 * maxUH))\n",
    "print(\"u max: \", polyval([bk3, bk2, bk1, bk], maxUH) / (maxUH))\n",
    "\n",
    "# И параметры, при которых максимум наблюдается\n",
    "print(\"B, if u=umax: \", polyval([bk3, bk2, bk1, bk], maxUH))\n",
    "print(\"H, if u=umax: \", maxUH)"
   ]
  },
  {
   "cell_type": "markdown",
   "metadata": {},
   "source": [
    "### Вывод:\n",
    "Получены требуемые в лабораторной работе значения, приведены в пунктах выше. Изучены свойства ферромагнетика, экспериментально вычислены параметры образца путем анализа петли гистерезиса. Для усреднения результатов были применены методы апроксимации дискретных значний полиномом 3-го порядка. Установлено, что остаточная магнитная индукция пропорциональна намагниченности. Магнитная проницаемость не имеет прямой зависимости от намагниченности: возрастает до некоторого максимума, после убывает.            \n",
    "    "
   ]
  },
  {
   "cell_type": "code",
   "execution_count": 13,
   "metadata": {},
   "outputs": [],
   "source": [
    "# Модель петли гистерезиса\n",
    "Hc = df1['Hc'][0]\n",
    "Br = df1['Br'][0]\n",
    "Bs = df2['Bm'][0]\n",
    "\n",
    "# Функция, задающая верхную полупетлю\n",
    "def FuncUp(H):\n",
    "    return (Bs * (H + Hc) / (abs (H + Hc) + Hc * (Bs / Br - 1)) + u0 * H)\n",
    "\n",
    "# Функция, задающая нижнюю полупетлю\n",
    "def FuncDown(H):\n",
    "    return ((Bs * (H - Hc) / (abs (H - Hc) + Hc * (Bs / Br - 1)) + u0 * H))\n",
    "\n",
    "# Функция, задающая начальную часть петли\n",
    "def FuncAvg(H):\n",
    "    return (FuncUp(H)+FuncDown(H)) / 2"
   ]
  },
  {
   "cell_type": "code",
   "execution_count": 14,
   "metadata": {},
   "outputs": [
    {
     "data": {
      "text/plain": [
       "Text(0, 0.5, 'B')"
      ]
     },
     "execution_count": 14,
     "metadata": {},
     "output_type": "execute_result"
    },
    {
     "data": {
      "image/png": "[encoded data removed]",
      "text/plain": [
       "<Figure size 720x360 with 1 Axes>"
      ]
     },
     "metadata": {
      "needs_background": "light"
     },
     "output_type": "display_data"
    }
   ],
   "source": [
    "# Построение графиков\n",
    "x = np.linspace(-100, 100, 1000)\n",
    "\n",
    "fig, ax = plt.subplots(figsize=(10, 5))\n",
    "\n",
    "ax.set_xlim(-100, 100)\n",
    "ax.set_ylim(-0.5, 0.5)\n",
    "ax.plot(x, FuncUp(x))\n",
    "ax.plot(x, FuncAvg(x))\n",
    "ax.plot(x, FuncDown(x))\n",
    "\n",
    "ax.set_xlabel('H')\n",
    "ax.set_ylabel('B')"
   ]
  },
  {
   "cell_type": "code",
   "execution_count": null,
   "metadata": {},
   "outputs": [],
   "source": []
  }
 ],
 "metadata": {
  "kernelspec": {
   "display_name": "Python 3",
   "language": "python",
   "name": "python3"
  },
  "language_info": {
   "codemirror_mode": {
    "name": "ipython",
    "version": 3
   },
   "file_extension": ".py",
   "mimetype": "text/x-python",
   "name": "python",
   "nbconvert_exporter": "python",
   "pygments_lexer": "ipython3",
   "version": "3.7.4"
  }
 },
 "nbformat": 4,
 "nbformat_minor": 2
}

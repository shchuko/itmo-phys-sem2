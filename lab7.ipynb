{
 "cells": [
  {
   "cell_type": "code",
   "execution_count": 7,
   "metadata": {},
   "outputs": [],
   "source": [
    "import pandas as pd\n",
    "import numpy as np\n",
    "from math import sqrt\n",
    "from math import pi\n",
    "import matplotlib.pyplot as plt\n",
    "from numpy import polyfit, polyval"
   ]
  },
  {
   "cell_type": "code",
   "execution_count": 46,
   "metadata": {},
   "outputs": [],
   "source": [
    "# Constants\n",
    "N1 = 1665\n",
    "N2 = 970\n",
    "L = 78 * 20**-2\n",
    "R1 = 68\n",
    "R2 = 470 * 10**3\n",
    "C1 = 0.47 * 10**-6\n",
    "S = 0.64 * (10**-2)**2\n",
    "u0 = 4*pi*10**-7\n",
    "\n",
    "freq = 30\n",
    "Vpp0 = 20\n",
    "\n",
    "alpha = N1 / (L * R1)\n",
    "betta = R2 * C1 / (N2 * S)"
   ]
  },
  {
   "cell_type": "code",
   "execution_count": 17,
   "metadata": {},
   "outputs": [],
   "source": [
    "def xi(Kx, Ky):\n",
    "    return Kx*Ky*N1*R2*C1*freq/(N2*R1)"
   ]
  },
  {
   "cell_type": "code",
   "execution_count": 54,
   "metadata": {},
   "outputs": [],
   "source": [
    "# Fill table 1\n",
    "df1 = pd.DataFrame({'Kx':[50 * 10**-3],\n",
    "                    'Ky':[100 * 10**-3],\n",
    "                    'Xc':[1.1], \n",
    "                    'Yr':[1.5]})\n",
    "\n",
    "# Calculating coercive force and residual induction for test sample\n",
    "df1['Hc'] = df1['Kx'] * df1['Xc'] * alpha\n",
    "df1['Br'] = df1['Ky'] * df1['Yr'] * betta"
   ]
  },
  {
   "cell_type": "code",
   "execution_count": 55,
   "metadata": {},
   "outputs": [
    {
     "data": {
      "text/html": [
       "<div>\n",
       "<style scoped>\n",
       "    .dataframe tbody tr th:only-of-type {\n",
       "        vertical-align: middle;\n",
       "    }\n",
       "\n",
       "    .dataframe tbody tr th {\n",
       "        vertical-align: top;\n",
       "    }\n",
       "\n",
       "    .dataframe thead th {\n",
       "        text-align: right;\n",
       "    }\n",
       "</style>\n",
       "<table border=\"1\" class=\"dataframe\">\n",
       "  <thead>\n",
       "    <tr style=\"text-align: right;\">\n",
       "      <th></th>\n",
       "      <th>Kx</th>\n",
       "      <th>Ky</th>\n",
       "      <th>Xc</th>\n",
       "      <th>Yr</th>\n",
       "      <th>Hc</th>\n",
       "      <th>Br</th>\n",
       "    </tr>\n",
       "  </thead>\n",
       "  <tbody>\n",
       "    <tr>\n",
       "      <td>0</td>\n",
       "      <td>0.05</td>\n",
       "      <td>0.1</td>\n",
       "      <td>1.1</td>\n",
       "      <td>1.5</td>\n",
       "      <td>6.906109</td>\n",
       "      <td>0.533747</td>\n",
       "    </tr>\n",
       "  </tbody>\n",
       "</table>\n",
       "</div>"
      ],
      "text/plain": [
       "     Kx   Ky   Xc   Yr        Hc        Br\n",
       "0  0.05  0.1  1.1  1.5  6.906109  0.533747"
      ]
     },
     "execution_count": 55,
     "metadata": {},
     "output_type": "execute_result"
    }
   ],
   "source": [
    "df1"
   ]
  },
  {
   "cell_type": "code",
   "execution_count": 43,
   "metadata": {},
   "outputs": [],
   "source": [
    "df2 = pd.DataFrame({'Kx':[50 * 10**-3],\n",
    "                    'Ky':[100 * 10**-3],\n",
    "                    'Xm':[3.4],\n",
    "                    'Ym':[2.6]})\n",
    "\n",
    "df2['Hm'] = df2['Kx'] * df2['Xm'] * alpha\n",
    "df2['Bm'] = df2['Ky'] * df2['Ym'] * betta\n",
    "df2['um'] = df2['Bm'] / (df2['Hm'] * u0)\n"
   ]
  },
  {
   "cell_type": "code",
   "execution_count": 56,
   "metadata": {},
   "outputs": [
    {
     "data": {
      "text/html": [
       "<div>\n",
       "<style scoped>\n",
       "    .dataframe tbody tr th:only-of-type {\n",
       "        vertical-align: middle;\n",
       "    }\n",
       "\n",
       "    .dataframe tbody tr th {\n",
       "        vertical-align: top;\n",
       "    }\n",
       "\n",
       "    .dataframe thead th {\n",
       "        text-align: right;\n",
       "    }\n",
       "</style>\n",
       "<table border=\"1\" class=\"dataframe\">\n",
       "  <thead>\n",
       "    <tr style=\"text-align: right;\">\n",
       "      <th></th>\n",
       "      <th>Kx</th>\n",
       "      <th>Ky</th>\n",
       "      <th>Xm</th>\n",
       "      <th>Ym</th>\n",
       "      <th>Hm</th>\n",
       "      <th>Bm</th>\n",
       "      <th>um</th>\n",
       "    </tr>\n",
       "  </thead>\n",
       "  <tbody>\n",
       "    <tr>\n",
       "      <td>0</td>\n",
       "      <td>0.05</td>\n",
       "      <td>0.1</td>\n",
       "      <td>3.4</td>\n",
       "      <td>2.6</td>\n",
       "      <td>21.346154</td>\n",
       "      <td>0.925161</td>\n",
       "      <td>34489.576083</td>\n",
       "    </tr>\n",
       "  </tbody>\n",
       "</table>\n",
       "</div>"
      ],
      "text/plain": [
       "     Kx   Ky   Xm   Ym         Hm        Bm            um\n",
       "0  0.05  0.1  3.4  2.6  21.346154  0.925161  34489.576083"
      ]
     },
     "execution_count": 56,
     "metadata": {},
     "output_type": "execute_result"
    }
   ],
   "source": [
    "# TODO\n",
    "# Produces wrong data\n",
    "df2"
   ]
  },
  {
   "cell_type": "code",
   "execution_count": null,
   "metadata": {},
   "outputs": [],
   "source": [
    "df3 = pd.DataFrame({'U':[],\n",
    "                    'X'\n",
    "                    'Kx':[],\n",
    "                    'Ky':[],\n",
    "                    'Xm':[],\n",
    "                    'Ym':[],\n",
    "                    ''})"
   ]
  }
 ],
 "metadata": {
  "kernelspec": {
   "display_name": "Python 3",
   "language": "python",
   "name": "python3"
  },
  "language_info": {
   "codemirror_mode": {
    "name": "ipython",
    "version": 3
   },
   "file_extension": ".py",
   "mimetype": "text/x-python",
   "name": "python",
   "nbconvert_exporter": "python",
   "pygments_lexer": "ipython3",
   "version": "3.7.4"
  }
 },
 "nbformat": 4,
 "nbformat_minor": 2
}
